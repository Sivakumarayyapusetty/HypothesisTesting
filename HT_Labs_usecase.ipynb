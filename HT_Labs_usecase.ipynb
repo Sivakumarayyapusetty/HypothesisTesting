{
 "cells": [
  {
   "cell_type": "raw",
   "metadata": {},
   "source": [
    "HT Usecase 2 :A hospital wants to determine whether there is any difference in the average Turn Around Time (TAT) of reports of the laboratories on their preferred list. They collected a random sample and recorded TAT for reports of 4 laboratories. TAT is defined as sample collected to report dispatch.\n",
    "   \n",
    "  Analyze the data and determine whether there is any difference in average TAT among the different laboratories at 5% significance level.\n",
    "α=0.05"
   ]
  },
  {
   "cell_type": "code",
   "execution_count": 1,
   "metadata": {},
   "outputs": [],
   "source": [
    " # Importing necessary libraries\n",
    "import scipy\n",
    "from scipy import stats\n",
    "from statsmodels.formula.api import ols\n",
    "import statsmodels.api as sm\n",
    "import pandas as pd \n",
    "import numpy as np"
   ]
  },
  {
   "cell_type": "code",
   "execution_count": 8,
   "metadata": {},
   "outputs": [
    {
     "data": {
      "text/html": [
       "<div>\n",
       "<style scoped>\n",
       "    .dataframe tbody tr th:only-of-type {\n",
       "        vertical-align: middle;\n",
       "    }\n",
       "\n",
       "    .dataframe tbody tr th {\n",
       "        vertical-align: top;\n",
       "    }\n",
       "\n",
       "    .dataframe thead th {\n",
       "        text-align: right;\n",
       "    }\n",
       "</style>\n",
       "<table border=\"1\" class=\"dataframe\">\n",
       "  <thead>\n",
       "    <tr style=\"text-align: right;\">\n",
       "      <th></th>\n",
       "      <th>Lab1</th>\n",
       "      <th>Lab2</th>\n",
       "      <th>Lab3</th>\n",
       "      <th>Lab4</th>\n",
       "    </tr>\n",
       "  </thead>\n",
       "  <tbody>\n",
       "    <tr>\n",
       "      <td>0</td>\n",
       "      <td>185.35</td>\n",
       "      <td>165.53</td>\n",
       "      <td>176.70</td>\n",
       "      <td>166.13</td>\n",
       "    </tr>\n",
       "    <tr>\n",
       "      <td>1</td>\n",
       "      <td>170.49</td>\n",
       "      <td>185.91</td>\n",
       "      <td>198.45</td>\n",
       "      <td>160.79</td>\n",
       "    </tr>\n",
       "    <tr>\n",
       "      <td>2</td>\n",
       "      <td>192.77</td>\n",
       "      <td>194.92</td>\n",
       "      <td>201.23</td>\n",
       "      <td>185.18</td>\n",
       "    </tr>\n",
       "    <tr>\n",
       "      <td>3</td>\n",
       "      <td>177.33</td>\n",
       "      <td>183.00</td>\n",
       "      <td>199.61</td>\n",
       "      <td>176.42</td>\n",
       "    </tr>\n",
       "    <tr>\n",
       "      <td>4</td>\n",
       "      <td>193.41</td>\n",
       "      <td>169.57</td>\n",
       "      <td>204.63</td>\n",
       "      <td>152.60</td>\n",
       "    </tr>\n",
       "  </tbody>\n",
       "</table>\n",
       "</div>"
      ],
      "text/plain": [
       "     Lab1    Lab2    Lab3    Lab4\n",
       "0  185.35  165.53  176.70  166.13\n",
       "1  170.49  185.91  198.45  160.79\n",
       "2  192.77  194.92  201.23  185.18\n",
       "3  177.33  183.00  199.61  176.42\n",
       "4  193.41  169.57  204.63  152.60"
      ]
     },
     "execution_count": 8,
     "metadata": {},
     "output_type": "execute_result"
    }
   ],
   "source": [
    "# importing data set using pandas\n",
    "Labtat=pd.read_csv(\"C:/Users/user/Documents/360digit/day2/testdata/TAT.csv\")\n",
    "Labtat.head()"
   ]
  },
  {
   "cell_type": "raw",
   "metadata": {},
   "source": [
    "So Input is Discrete in more than 2 categories.\n",
    "Output is continuous as we are trying to see the difference in average TAT.\n",
    "we proceed with ANOVA one-way test"
   ]
  },
  {
   "cell_type": "code",
   "execution_count": 9,
   "metadata": {},
   "outputs": [],
   "source": [
    "Labtat.columns =\"Lab1\",\"Lab2\",\"Lab3\",\"Lab4\""
   ]
  },
  {
   "cell_type": "raw",
   "metadata": {},
   "source": [
    "Step1: Normality test- We will see if data is normally distributed or not\n",
    "Create hypothesis for Lab\n",
    "Ho= Data is normally distributed\n",
    "Ha=Data is not normally distributed"
   ]
  },
  {
   "cell_type": "code",
   "execution_count": 10,
   "metadata": {},
   "outputs": [
    {
     "name": "stdout",
     "output_type": "stream",
     "text": [
      "(0.9901824593544006, 0.5506953597068787)\n",
      "(0.9936322569847107, 0.8637524843215942)\n",
      "(0.9886345267295837, 0.4205053448677063)\n",
      "(0.9913753271102905, 0.6618951559066772)\n"
     ]
    }
   ],
   "source": [
    "print(stats.shapiro(Labtat.Lab1))\n",
    "print(stats.shapiro(Labtat.Lab2))\n",
    "print(stats.shapiro(Labtat.Lab3))\n",
    "print(stats.shapiro(Labtat.Lab4))"
   ]
  },
  {
   "cell_type": "raw",
   "metadata": {},
   "source": [
    "For Lab1, Lab2, Lab3, Lab4 Pvalue > 0.05( i.e alpha), P high NULL fly; so data is normaly distributed."
   ]
  },
  {
   "cell_type": "raw",
   "metadata": {},
   "source": [
    "Step 2: Variance Test using levence test to know the Homegenity of Variance\n",
    "2.1) Hypothesis for variances of Lab 1 and Lab 2\n",
    "Ho= Variance of TAT of Lab 1 is equal to variance of TAT of Lab 2\n",
    "Ha= Variance of TAT of Lab 1 is not equal to variance of TAT of Lab 2"
   ]
  },
  {
   "cell_type": "code",
   "execution_count": 11,
   "metadata": {},
   "outputs": [
    {
     "data": {
      "text/plain": [
       "LeveneResult(statistic=3.5495027780905763, pvalue=0.06078228171776711)"
      ]
     },
     "execution_count": 11,
     "metadata": {},
     "output_type": "execute_result"
    }
   ],
   "source": [
    "scipy.stats.levene(Labtat.Lab1, Labtat.Lab2)"
   ]
  },
  {
   "cell_type": "raw",
   "metadata": {},
   "source": [
    "P-value>0.05. P High Null Fly; hence Variances of Lab 1 is equal to variances of Lab 2"
   ]
  },
  {
   "cell_type": "raw",
   "metadata": {},
   "source": [
    "2.2) Hypothesis for variances of Lab 2 and Lab 3\n",
    "Ho= Variance of TAT of Lab 2 is equal to variance of TAT of Lab 3\n",
    "Ha= Variance of TAT of Lab 2 is not equal to variance of TAT of Lab "
   ]
  },
  {
   "cell_type": "code",
   "execution_count": 12,
   "metadata": {},
   "outputs": [
    {
     "data": {
      "text/plain": [
       "LeveneResult(statistic=0.9441465124387124, pvalue=0.33220021420602397)"
      ]
     },
     "execution_count": 12,
     "metadata": {},
     "output_type": "execute_result"
    }
   ],
   "source": [
    "scipy.stats.levene(Labtat.Lab2, Labtat.Lab3)"
   ]
  },
  {
   "cell_type": "code",
   "execution_count": null,
   "metadata": {},
   "outputs": [],
   "source": [
    "P-value>0.05. P High Null Fly; hence Variances of Lab 2 is equal to variances of Lab 3"
   ]
  },
  {
   "cell_type": "code",
   "execution_count": null,
   "metadata": {},
   "outputs": [],
   "source": [
    "2.3) Hypothesis for variances of Lab 3 and Lab 4\n",
    "Ho= Variance of TAT of Lab 3 is equal to variance of TAT of Lab 4\n",
    "Ha= Variance of TAT of Lab 3 is not equal to variance of TAT of Lab 4\n"
   ]
  },
  {
   "cell_type": "code",
   "execution_count": 13,
   "metadata": {},
   "outputs": [
    {
     "data": {
      "text/plain": [
       "LeveneResult(statistic=2.037958464521512, pvalue=0.15472618294425391)"
      ]
     },
     "execution_count": 13,
     "metadata": {},
     "output_type": "execute_result"
    }
   ],
   "source": [
    "scipy.stats.levene(Labtat.Lab3, Labtat.Lab4)"
   ]
  },
  {
   "cell_type": "raw",
   "metadata": {},
   "source": [
    "P-value>0.05. P High Null Fly; hence Variances of Lab 3 is equal to variances of Lab 4"
   ]
  },
  {
   "cell_type": "raw",
   "metadata": {},
   "source": [
    "2.4) Hypothesis for variances of Lab 4 and Lab 1\n",
    "Ho= Variance of TAT of Lab 4 is equal to variance of TAT of Lab 1\n",
    "Ha= Variance of TAT of Lab 4 is not equal to variance of TAT of Lab 1"
   ]
  },
  {
   "cell_type": "code",
   "execution_count": 15,
   "metadata": {},
   "outputs": [
    {
     "data": {
      "text/plain": [
       "LeveneResult(statistic=1.5000140718506723, pvalue=0.22188001348277267)"
      ]
     },
     "execution_count": 15,
     "metadata": {},
     "output_type": "execute_result"
    }
   ],
   "source": [
    "scipy.stats.levene(Labtat.Lab4, Labtat.Lab1)"
   ]
  },
  {
   "cell_type": "raw",
   "metadata": {},
   "source": [
    "P-value>0.05. P High Ho fly. We fail to reject Null hypothesis. So we will accept it and hence Variances of lab 4 is equal to variances of lab 1"
   ]
  },
  {
   "cell_type": "raw",
   "metadata": {},
   "source": [
    "Step 3) As there are more than 2 discrete variables and output variable TAT is a continuous variable. Hence we will go with Anova one way test.\n",
    "Hypothesis \n",
    "Ho= Average TAT for all the samples is same\n",
    "Ha= Averages TAT for all the samples is not same"
   ]
  },
  {
   "cell_type": "code",
   "execution_count": 31,
   "metadata": {},
   "outputs": [
    {
     "name": "stdout",
     "output_type": "stream",
     "text": [
      "             df        sum_sq     mean_sq         F    PR(>F)\n",
      "Lab2        1.0    332.030416  332.030416  1.940311  0.166299\n",
      "Lab3        1.0    203.853111  203.853111  1.191271  0.277335\n",
      "Lab4        1.0    265.614707  265.614707  1.552192  0.215323\n",
      "Residual  116.0  19850.186366  171.122296       NaN       NaN\n"
     ]
    }
   ],
   "source": [
    "# Ordinary Least Squares (OLS) model\n",
    "mod=ols('Lab1~Lab2+Lab3+Lab4',data=Labtat).fit()\n",
    "aov_table=sm.stats.anova_lm(mod, type=2)\n",
    "\n",
    "print(aov_table)"
   ]
  },
  {
   "cell_type": "raw",
   "metadata": {},
   "source": [
    " Here P -values are  > 0.05. P High NULL fly Averages are similar , Hence there is no significant difference in the average TAT for all the labs."
   ]
  }
 ],
 "metadata": {
  "kernelspec": {
   "display_name": "Python 3",
   "language": "python",
   "name": "python3"
  },
  "language_info": {
   "codemirror_mode": {
    "name": "ipython",
    "version": 3
   },
   "file_extension": ".py",
   "mimetype": "text/x-python",
   "name": "python",
   "nbconvert_exporter": "python",
   "pygments_lexer": "ipython3",
   "version": "3.7.4"
  }
 },
 "nbformat": 4,
 "nbformat_minor": 2
}
