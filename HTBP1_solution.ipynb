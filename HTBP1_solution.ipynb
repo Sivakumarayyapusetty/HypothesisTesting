{
 "cells": [
  {
   "cell_type": "raw",
   "metadata": {},
   "source": [
    "# Problem Satement:  A F&B manager wants to determine whether there is any significant difference in the diameter of the cutlet between two units.A randomly selected sample of cutlets was collected from both units and measured? Analyze the data and draw inferences at 5% significance level."
   ]
  },
  {
   "cell_type": "code",
   "execution_count": 1,
   "metadata": {},
   "outputs": [],
   "source": [
    " # Importing necessary libraries\n",
    "import scipy\n",
    "from scipy import stats\n",
    "from statsmodels.formula.api import ols\n",
    "import statsmodels.api as sm\n",
    "import pandas as pd \n",
    "import numpy as np"
   ]
  },
  {
   "cell_type": "code",
   "execution_count": 2,
   "metadata": {},
   "outputs": [
    {
     "data": {
      "text/html": [
       "<div>\n",
       "<style scoped>\n",
       "    .dataframe tbody tr th:only-of-type {\n",
       "        vertical-align: middle;\n",
       "    }\n",
       "\n",
       "    .dataframe tbody tr th {\n",
       "        vertical-align: top;\n",
       "    }\n",
       "\n",
       "    .dataframe thead th {\n",
       "        text-align: right;\n",
       "    }\n",
       "</style>\n",
       "<table border=\"1\" class=\"dataframe\">\n",
       "  <thead>\n",
       "    <tr style=\"text-align: right;\">\n",
       "      <th></th>\n",
       "      <th>Unit A</th>\n",
       "      <th>Unit B</th>\n",
       "    </tr>\n",
       "  </thead>\n",
       "  <tbody>\n",
       "    <tr>\n",
       "      <td>0</td>\n",
       "      <td>6.8090</td>\n",
       "      <td>6.7703</td>\n",
       "    </tr>\n",
       "    <tr>\n",
       "      <td>1</td>\n",
       "      <td>6.4376</td>\n",
       "      <td>7.5093</td>\n",
       "    </tr>\n",
       "    <tr>\n",
       "      <td>2</td>\n",
       "      <td>6.9157</td>\n",
       "      <td>6.7300</td>\n",
       "    </tr>\n",
       "    <tr>\n",
       "      <td>3</td>\n",
       "      <td>7.3012</td>\n",
       "      <td>6.7878</td>\n",
       "    </tr>\n",
       "    <tr>\n",
       "      <td>4</td>\n",
       "      <td>7.4488</td>\n",
       "      <td>7.1522</td>\n",
       "    </tr>\n",
       "  </tbody>\n",
       "</table>\n",
       "</div>"
      ],
      "text/plain": [
       "   Unit A  Unit B\n",
       "0  6.8090  6.7703\n",
       "1  6.4376  7.5093\n",
       "2  6.9157  6.7300\n",
       "3  7.3012  6.7878\n",
       "4  7.4488  7.1522"
      ]
     },
     "execution_count": 2,
     "metadata": {},
     "output_type": "execute_result"
    }
   ],
   "source": [
    "# importing data set using pandas\n",
    "cutlets=pd.read_csv(\"C:/Users/user/Documents/360digit/day2/testdata/cutlets.csv\")\n",
    "cutlets.head()"
   ]
  },
  {
   "cell_type": "raw",
   "metadata": {},
   "source": [
    "#Input UnitA , UnitB is two catogeries and output we are trying is difference in diameter i.e countineous in nature, So proceeding with 2-sample t test"
   ]
  },
  {
   "cell_type": "code",
   "execution_count": 3,
   "metadata": {},
   "outputs": [],
   "source": [
    "cutlets.columns =\"unitA\",\"unitB\""
   ]
  },
  {
   "cell_type": "raw",
   "metadata": {},
   "source": [
    "\n",
    "# H0,Ha for Business problem;          H0: There is difference in diameter  ;   Ha: No difference in diameter"
   ]
  },
  {
   "cell_type": "code",
   "execution_count": 4,
   "metadata": {},
   "outputs": [
    {
     "name": "stdout",
     "output_type": "stream",
     "text": [
      "(0.9649458527565002, 0.3199819028377533)\n",
      "(0.9727300405502319, 0.5224985480308533)\n"
     ]
    }
   ],
   "source": [
    "#Normality Test(Shapiro test)\n",
    "print(stats.shapiro(cutlets.unitA))    \n",
    "print(stats.shapiro(cutlets.unitB))"
   ]
  },
  {
   "cell_type": "raw",
   "metadata": {},
   "source": [
    "# unitA-p-value 0.3199 >0.05% so p high null fly ;It fallows normal distribution\n",
    "# unitA-B-value 0.5224 >0.05% so p high null fly ;It fallows normal distribution"
   ]
  },
  {
   "cell_type": "code",
   "execution_count": null,
   "metadata": {},
   "outputs": [],
   "source": [
    "#Varience test\n",
    "#H0,Ha for Business problem; H0: Varience of UnitA is equal to varience of Unit B \n",
    "                            #Ha: Varience of UnitA is NOT EQUALS to varience of Unit B"
   ]
  },
  {
   "cell_type": "code",
   "execution_count": 5,
   "metadata": {},
   "outputs": [
    {
     "data": {
      "text/plain": [
       "LeveneResult(statistic=0.665089763863238, pvalue=0.4176162212502553)"
      ]
     },
     "execution_count": 5,
     "metadata": {},
     "output_type": "execute_result"
    }
   ],
   "source": [
    "scipy.stats.levene(cutlets.unitA, cutlets.unitB)"
   ]
  },
  {
   "cell_type": "raw",
   "metadata": {},
   "source": [
    "#p Value 0.41 > 0.05, p high NULL fly ;equal variences i.e 2 sample T test"
   ]
  },
  {
   "cell_type": "raw",
   "metadata": {},
   "source": [
    "#2 sample t- test is equality of Means test. Sample Mean will tell us which program is better.\n",
    "#Ho= Averages of diameters of Unit A is equal to Averages of diameters of unit B\n",
    "#Ha= Averages of diameters of Unit A is not equal to Averages of diameters of unit B"
   ]
  },
  {
   "cell_type": "code",
   "execution_count": 6,
   "metadata": {},
   "outputs": [
    {
     "data": {
      "text/plain": [
       "Ttest_indResult(statistic=0.7228688704678061, pvalue=0.4722394724599501)"
      ]
     },
     "execution_count": 6,
     "metadata": {},
     "output_type": "execute_result"
    }
   ],
   "source": [
    "scipy.stats.ttest_ind(cutlets.unitA, cutlets.unitB)"
   ]
  },
  {
   "cell_type": "raw",
   "metadata": {},
   "source": [
    "Decision: p -value 0.47 > 0.05 %, p high null fly :i.e variences are equal\n",
    "Inference is that there is no significant difference in the diameters of Unit A and Unit B"
   ]
  }
 ],
 "metadata": {
  "kernelspec": {
   "display_name": "Python 3",
   "language": "python",
   "name": "python3"
  },
  "language_info": {
   "codemirror_mode": {
    "name": "ipython",
    "version": 3
   },
   "file_extension": ".py",
   "mimetype": "text/x-python",
   "name": "python",
   "nbconvert_exporter": "python",
   "pygments_lexer": "ipython3",
   "version": "3.7.4"
  }
 },
 "nbformat": 4,
 "nbformat_minor": 2
}
